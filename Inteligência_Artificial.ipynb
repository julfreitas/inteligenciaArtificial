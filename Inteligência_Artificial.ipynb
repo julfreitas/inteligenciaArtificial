{
  "nbformat": 4,
  "nbformat_minor": 0,
  "metadata": {
    "colab": {
      "provenance": [],
      "authorship_tag": "ABX9TyNRabKbuPf5F2TAQhQ0Lf9Z",
      "include_colab_link": true
    },
    "kernelspec": {
      "name": "python3",
      "display_name": "Python 3"
    },
    "language_info": {
      "name": "python"
    }
  },
  "cells": [
    {
      "cell_type": "markdown",
      "metadata": {
        "id": "view-in-github",
        "colab_type": "text"
      },
      "source": [
        "<a href=\"https://colab.research.google.com/github/julfreitas/inteligenciaArtificial/blob/main/Intelig%C3%AAncia_Artificial.ipynb\" target=\"_parent\"><img src=\"https://colab.research.google.com/assets/colab-badge.svg\" alt=\"Open In Colab\"/></a>"
      ]
    },
    {
      "cell_type": "markdown",
      "source": [
        "#Projeto Inteligência Artificial - Machine Learning"
      ],
      "metadata": {
        "id": "-4_oEvGs3OYI"
      }
    },
    {
      "cell_type": "markdown",
      "source": [
        "##Coletar os dados"
      ],
      "metadata": {
        "id": "KDFhU2YL3YUN"
      }
    },
    {
      "cell_type": "code",
      "execution_count": null,
      "metadata": {
        "colab": {
          "base_uri": "https://localhost:8080/"
        },
        "id": "XZrAgJx223N7",
        "outputId": "1f7b944f-04f9-4c0e-cb3f-fe70032703ed"
      },
      "outputs": [
        {
          "output_type": "stream",
          "name": "stderr",
          "text": [
            "/usr/local/lib/python3.10/dist-packages/yfinance/base.py:48: FutureWarning: The default dtype for empty Series will be 'object' instead of 'float64' in a future version. Specify a dtype explicitly to silence this warning.\n",
            "  _empty_series = pd.Series()\n"
          ]
        }
      ],
      "source": [
        "import yfinance as yf"
      ]
    },
    {
      "cell_type": "code",
      "source": [
        "codigo = input(\"Digite p código da ação: \")\n",
        "dados = yf.Ticker(codigo).history(\"2y\")\n",
        "\n",
        "dados.head()"
      ],
      "metadata": {
        "id": "vHglt2ib3Jjq"
      },
      "execution_count": null,
      "outputs": []
    },
    {
      "cell_type": "markdown",
      "source": [
        "##Tratamento de dados"
      ],
      "metadata": {
        "id": "7IjNvgKDyUzW"
      }
    },
    {
      "cell_type": "markdown",
      "source": [
        "\n",
        "\n",
        "*   Série temporal\n",
        "\n"
      ],
      "metadata": {
        "id": "Ng3J4Qeayi6u"
      }
    },
    {
      "cell_type": "code",
      "source": [
        "#resetar o índice / Date virar uma coluna\n",
        "treinamento = dados.reset_index()\n",
        "\n",
        "#extraindo apenas a data da coluna date\n",
        "treinamento[\"Date\"] = treinamento[\"Date\"].dt.date\n",
        "\n",
        "#filtrar os meus dados\n",
        "colunas = [\"Date\", \"Close\"]\n",
        "treinamento = treinamento[colunas]\n",
        "\n",
        "#alterar o nome das colunas\n",
        "treinamento.columns = \"ds\", \"y\"\n",
        "\n",
        "treinamento"
      ],
      "metadata": {
        "id": "QMoNSd9O3JoQ"
      },
      "execution_count": null,
      "outputs": []
    },
    {
      "cell_type": "markdown",
      "source": [
        "##Criando e treinando o modelo de Machine Learning"
      ],
      "metadata": {
        "id": "EUiKT8nH3g1C"
      }
    },
    {
      "cell_type": "code",
      "source": [
        "!pip install prophet"
      ],
      "metadata": {
        "id": "tva1bVRU3Jq4"
      },
      "execution_count": null,
      "outputs": []
    },
    {
      "cell_type": "code",
      "source": [
        "from prophet import Prophet"
      ],
      "metadata": {
        "id": "zhmqY5hX3Jti"
      },
      "execution_count": 16,
      "outputs": []
    },
    {
      "cell_type": "code",
      "source": [
        "#criar o modelo\n",
        "modelo = Prophet()"
      ],
      "metadata": {
        "id": "-xjn1cYs3Jwq"
      },
      "execution_count": 17,
      "outputs": []
    },
    {
      "cell_type": "code",
      "source": [
        "#treinar o modelo\n",
        "modelo.fit(treinamento)"
      ],
      "metadata": {
        "id": "XIK45ZxN3JzT"
      },
      "execution_count": null,
      "outputs": []
    },
    {
      "cell_type": "markdown",
      "source": [
        "##Gerando previsões"
      ],
      "metadata": {
        "id": "--v41dGW4lN2"
      }
    },
    {
      "cell_type": "code",
      "source": [
        "periodo = modelo.make_future_dataframe(90)\n",
        "periodo.head()"
      ],
      "metadata": {
        "id": "0AUXv0u04jUh"
      },
      "execution_count": null,
      "outputs": []
    },
    {
      "cell_type": "code",
      "source": [
        "previsoes = modelo.predict(periodo)"
      ],
      "metadata": {
        "id": "CsEsb8Tb3J2i"
      },
      "execution_count": 22,
      "outputs": []
    },
    {
      "cell_type": "code",
      "source": [
        "previsoes"
      ],
      "metadata": {
        "id": "DVOhTW9e561n"
      },
      "execution_count": null,
      "outputs": []
    },
    {
      "cell_type": "markdown",
      "source": [
        "##Visualização de Dados"
      ],
      "metadata": {
        "id": "yVl29tQL6g8t"
      }
    },
    {
      "cell_type": "code",
      "source": [
        "from prophet.plot import plot_plotly"
      ],
      "metadata": {
        "id": "M87uwEQK3J4F"
      },
      "execution_count": 25,
      "outputs": []
    },
    {
      "cell_type": "code",
      "source": [
        "plot_plotly(modelo, previsoes)"
      ],
      "metadata": {
        "id": "eg2WiyDq69SB"
      },
      "execution_count": null,
      "outputs": []
    }
  ]
}